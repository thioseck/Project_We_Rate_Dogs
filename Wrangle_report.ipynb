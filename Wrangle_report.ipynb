{
 "cells": [
  {
   "cell_type": "markdown",
   "metadata": {},
   "source": [
    "#      Wrangling Report\n",
    "\n",
    "\n"
   ]
  },
  {
   "cell_type": "markdown",
   "metadata": {},
   "source": [
    "## Gathering\n",
    "We began with the gathering. we collected data from three different souces.<br>\n",
    "First, we downloaded the WeRateDogs archive twitter_archive_enchanced.csv file manually by clicking the link provided by Udacity.<br>\n",
    "Second, The tweet image _prediction.tsv file was available on Udacity's server. We dowloaded the fie using request library.<br>\n",
    "Third, using the tweet IDs in the WeRateDogs thwitter archive. We supposed to query the twitter API for each tweet's JSON data using python tweepy library and stored each tweet's entire set of JSON data in a file called tweet_json.txt. Unfotunally, we were not able to obtain an API key to do that. We used the tweet_json.txt provided by Udacity."
   ]
  },
  {
   "cell_type": "markdown",
   "metadata": {},
   "source": [
    "## Assessing"
   ]
  },
  {
   "cell_type": "markdown",
   "metadata": {},
   "source": [
    "After visual and programmatic assessment ot the datasets, we came up with the following quality and tidiness issues:<br>\n",
    "### Quality issues\n",
    "+ Columns relevant to retweets need to be drop ( we only want original tweet   with images). <br>\n",
    "+ Replies related columns are not really needed. <br>\n",
    "+ Column 'name' does not follow the rules.<br>\n",
    "+ Convert tweet_id to string.<br>\n",
    "+ Convert timestamp to datetime. <br>\n",
    "+ Rating numerator value equal 1776 is an outlier. <br>\n",
    "+ Delete all rating numerator value superior at 20.\n",
    "+ Numerators  and denominator equal at 20 or less are acceptable.   \n",
    "+ Columns expanded URLs is unnecessary in df_twitter.\n",
    "+ Capitalize all words founds in columns p1, p2 and p3.<br>\n",
    "\n",
    "### Tidiness Issues\n",
    "+ Merge all dataframes in one by tweet_id.\n",
    "+ Doggo, floofer, pupper, puppo are one variable spread across different     columns\n",
    "+ rating_numerator and rating_denominator can be combined into one column \n",
    "+ It would be useful to split the timestamp column in columns: date, year, month, day 0f the week, time and hour."
   ]
  },
  {
   "cell_type": "markdown",
   "metadata": {},
   "source": [
    "## Cleaning\n",
    "First, we made a copie of each dataset, then merge them. We set the how parameter to 'inner' and the on  to 'tweet_id' in order to deal with tweets that are in both tables. We worked with the dataset obtain.\n",
    "We took care of all these quality and tiddiness issues listing above and save our clean dataset in csv file."
   ]
  },
  {
   "cell_type": "markdown",
   "metadata": {},
   "source": [
    "##  Conclusion\n",
    "Data wrangling provide a very solide foundation of the further data analys. By using data wranglibg methods in this project, we are now able to fix quality and tidiness issues and create a much cleaner dataset."
   ]
  }
 ],
 "metadata": {
  "kernelspec": {
   "display_name": "Python 3",
   "language": "python",
   "name": "python3"
  },
  "language_info": {
   "codemirror_mode": {
    "name": "ipython",
    "version": 3
   },
   "file_extension": ".py",
   "mimetype": "text/x-python",
   "name": "python",
   "nbconvert_exporter": "python",
   "pygments_lexer": "ipython3",
   "version": "3.7.3"
  }
 },
 "nbformat": 4,
 "nbformat_minor": 2
}
